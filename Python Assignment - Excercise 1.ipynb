{
 "cells": [
  {
   "cell_type": "markdown",
   "id": "6b7b3a8e",
   "metadata": {},
   "source": [
    "<h3>1. Given a number, find the sum of its digits. Take the number as an input from the user.</h3>"
   ]
  },
  {
   "cell_type": "code",
   "execution_count": 2,
   "id": "8290f25a",
   "metadata": {},
   "outputs": [
    {
     "name": "stdout",
     "output_type": "stream",
     "text": [
      "Enter a number: 311456\n",
      "20\n"
     ]
    }
   ],
   "source": [
    "num = input(\"Enter a number: \")\n",
    "sum = 0\n",
    "for i in num:\n",
    "    sum+= int(i)\n",
    "print(sum)"
   ]
  },
  {
   "cell_type": "markdown",
   "id": "7454eeb5",
   "metadata": {},
   "source": [
    "<h3>2. Given a number, check whether the given number is an Armstrong number or not. A positive integer is called an Armstrong number of order n if:\n",
    "abcd... = a^n + b^n + c^n + d^n + ...\n",
    "Example: 153 = 1*1*1 + 5*5*5 + 3*3*3\n",
    "153 is an Armstrong number of order 3.\n",
    "Inputs from the user will be number and order n.</h3>"
   ]
  },
  {
   "cell_type": "code",
   "execution_count": 3,
   "id": "2e16302b",
   "metadata": {},
   "outputs": [
    {
     "name": "stdout",
     "output_type": "stream",
     "text": [
      "Enter the positive number: 153\n",
      "Enter the positive order: 3\n",
      "153 is an Armstrong number of order 3\n"
     ]
    }
   ],
   "source": [
    "num = input(\"Enter the positive number: \")\n",
    "n = int(input(\"Enter the positive order: \"))\n",
    "sum = 0\n",
    "if int(num) > 0 or n >= 0:\n",
    "    for i in num:\n",
    "        mul = int(i) ** n\n",
    "        sum+= mul\n",
    "    if sum == int(num):\n",
    "        print(num,\"is an Armstrong number of order\",n)\n",
    "    else:\n",
    "        print(num,\" is not an Armstrong number of order\",n)\n",
    "else:\n",
    "    print(\"Enter a positive number or order\")"
   ]
  },
  {
   "cell_type": "markdown",
   "id": "0de220ba",
   "metadata": {},
   "source": [
    "<h3>3. Given a string, write a python function to check if it is palindrome or not. A string is said to be palindrome if the reverse of the string is the same as string. For example, “malayalam” is a palindrome, but “music” is not a palindrome.\n",
    "</h3>"
   ]
  },
  {
   "cell_type": "code",
   "execution_count": 4,
   "id": "88a88349",
   "metadata": {},
   "outputs": [
    {
     "name": "stdout",
     "output_type": "stream",
     "text": [
      "Enter the string: malayalam\n",
      "malayalam is a palindrome\n"
     ]
    }
   ],
   "source": [
    "string = input(\"Enter the string: \")\n",
    "rev = string[::-1]\n",
    "if string == rev:\n",
    "    print(string,\"is a palindrome\")\n",
    "else:\n",
    "    print(string,\"is not a palindrome\")"
   ]
  },
  {
   "cell_type": "markdown",
   "id": "4fcd6de7",
   "metadata": {},
   "source": [
    "<h4>4. Given an array which may contain duplicates, print all elements and their frequencies.</h4>"
   ]
  },
  {
   "cell_type": "code",
   "execution_count": 5,
   "id": "0efe2119",
   "metadata": {},
   "outputs": [
    {
     "name": "stdout",
     "output_type": "stream",
     "text": [
      "1 is present in the given array with frequency of: 3\n",
      "2 is present in the given array with frequency of: 4\n",
      "4 is present in the given array with frequency of: 1\n",
      "8 is present in the given array with frequency of: 1\n",
      "7 is present in the given array with frequency of: 1\n",
      "0 is present in the given array with frequency of: 1\n",
      "9 is present in the given array with frequency of: 1\n",
      "3 is present in the given array with frequency of: 1\n"
     ]
    }
   ],
   "source": [
    "arr = [1,2,4,8,7,2,2,2,0,9,1,1,3]\n",
    "dic = {}\n",
    "for i in range(len(arr)):\n",
    "    if arr[i] in dic.keys():\n",
    "        dic[arr[i]]+= 1\n",
    "    else:\n",
    "        dic[arr[i]] = 1\n",
    "for k,v in dic.items():\n",
    "    print(k,\"is present in the given array with frequency of:\",v)"
   ]
  },
  {
   "cell_type": "markdown",
   "id": "513988bd",
   "metadata": {},
   "source": [
    "<h3>5. Given a number n, write a function to print all prime factors of n. For example, if the input number is 12, then output should be “2 2 3”.</h3>"
   ]
  },
  {
   "cell_type": "code",
   "execution_count": 6,
   "id": "857fea50",
   "metadata": {},
   "outputs": [
    {
     "name": "stdout",
     "output_type": "stream",
     "text": [
      "Enter a number: 12\n",
      "Following are the prime factors of 12 :\n",
      "[2, 2, 3]\n"
     ]
    }
   ],
   "source": [
    "num = int(input(\"Enter a number: \"))\n",
    "n = num\n",
    "i = 2\n",
    "primeFactors = []\n",
    "while (num/2)>=1:\n",
    "    if num % i == 0:\n",
    "        num = num / i\n",
    "        primeFactors.append(i)\n",
    "    else:\n",
    "        i+=1\n",
    "print(\"Following are the prime factors of\",n,\":\")\n",
    "print(primeFactors)"
   ]
  },
  {
   "cell_type": "markdown",
   "id": "84ebc909",
   "metadata": {},
   "source": [
    "<h3>6. Given two numbers n and r, find the value of nCr (binomial coefficient: nCr = (n!) / (r! * (n-r)!))</h3>"
   ]
  },
  {
   "cell_type": "code",
   "execution_count": 7,
   "id": "22c7cf83",
   "metadata": {},
   "outputs": [
    {
     "name": "stdout",
     "output_type": "stream",
     "text": [
      "Enter n: 10\n",
      "Enter r: 5\n",
      "The nCr of the given n = 10 and r = 5 is 252\n"
     ]
    }
   ],
   "source": [
    "def factorial(n):\n",
    "    fac = 1\n",
    "    if n <=0:\n",
    "        return 1\n",
    "    for i in range(1,n+1):\n",
    "        fac = fac * i\n",
    "    return fac\n",
    "n = int(input(\"Enter n: \"))\n",
    "r = int(input(\"Enter r: \"))\n",
    "ncr = int(factorial(n) / (factorial(r) * factorial(n-r)))\n",
    "print(\"The nCr of the given n =\",n,\"and r =\",r,\"is\",ncr)"
   ]
  },
  {
   "cell_type": "markdown",
   "id": "4c58f9d9",
   "metadata": {},
   "source": [
    "<h3>7. Searching: Given a sorted array arr[] of n elements, write a function to search a given element x in arr[]. Do it using linear and binary search techniques.</h3>"
   ]
  },
  {
   "cell_type": "code",
   "execution_count": 8,
   "id": "821b794f",
   "metadata": {},
   "outputs": [
    {
     "name": "stdout",
     "output_type": "stream",
     "text": [
      "Enter the number that is to be searched in the array: 32\n",
      "Element 32 is present in the given array at the index: 11\n"
     ]
    }
   ],
   "source": [
    "arr = [1,2,3,5,9,10,11,20,30,31,32]\n",
    "\n",
    "def linearSearch(arr,x):\n",
    "    n = len(arr)\n",
    "    for i in range(len(arr)):\n",
    "        if x == arr[i]:\n",
    "            print(\"Element\",x,\"is present in the given array at the index:\",i+1)\n",
    "            return None\n",
    "    print(x,\"not found in the given array\")\n",
    "\n",
    "x = int(input(\"Enter the number that is to be searched in the array: \"))  \n",
    "index = linearSearch(arr,x)"
   ]
  },
  {
   "cell_type": "code",
   "execution_count": 9,
   "id": "d8dcfb35",
   "metadata": {},
   "outputs": [
    {
     "name": "stdout",
     "output_type": "stream",
     "text": [
      "Enter the number that is to be searched in the array: 31\n",
      "31 is present in the given array at index 10\n"
     ]
    }
   ],
   "source": [
    "arr = [1,2,3,5,9,10,11,20,30,31,32]\n",
    "def binarySearch(arr,y):\n",
    "    n = len(arr)\n",
    "    lowerBound = 1\n",
    "    upperBound = n \n",
    "    flag = False\n",
    "    while flag == False:\n",
    "        if upperBound < lowerBound:\n",
    "            print(y,\"does not exists in the given array\")\n",
    "            return None\n",
    "        \n",
    "        midPoint = int(lowerBound + ( upperBound - lowerBound ) / 2)\n",
    "      \n",
    "        if arr[midPoint] < y:\n",
    "            lowerBound = int(midPoint + 1)\n",
    "         \n",
    "        if arr[midPoint] > y:\n",
    "            upperBound = int(midPoint - 1) \n",
    "\n",
    "        if arr[midPoint] == y:\n",
    "            print(y,\"is present in the given array at index\", midPoint+1)\n",
    "            flag = True\n",
    "\n",
    "y = int(input(\"Enter the number that is to be searched in the array: \"))  \n",
    "index = binarySearch(arr,y)      "
   ]
  },
  {
   "cell_type": "markdown",
   "id": "68e4d96d",
   "metadata": {},
   "source": [
    "Following link was refered for reference to the Binary Search Psuedocode: https://www.tutorialspoint.com/data_structures_algorithms/binary_search_algorithm.htm"
   ]
  },
  {
   "cell_type": "markdown",
   "id": "f6495caa",
   "metadata": {},
   "source": [
    "<h3>8. Input a text file (containing 1 or more paragraphs of English text) from the user, parse this file to display the frequency of occurrence of each word in this text file. Find the 3 most frequent words as well</h3>"
   ]
  },
  {
   "cell_type": "code",
   "execution_count": 10,
   "id": "377d1fd3",
   "metadata": {},
   "outputs": [
    {
     "name": "stdout",
     "output_type": "stream",
     "text": [
      "Enter the file name with extension: text.txt\n",
      "The 3 most frequent words are: ['the', 'of', 'we']\n",
      "Following are the words in the given file with their frequency of occurences: \n",
      "the : 17\n",
      "of : 14\n",
      "we : 13\n",
      "have : 10\n",
      "and : 8\n",
      "to : 7\n",
      "i : 6\n",
      "our : 6\n",
      "a : 6\n",
      "in : 5\n",
      "not : 5\n",
      "this : 5\n",
      "that : 5\n",
      "my : 5\n",
      "is : 4\n",
      "must : 4\n",
      "are : 4\n",
      "as : 4\n",
      "three : 3\n",
      "for : 3\n",
      "all : 3\n",
      "was : 3\n",
      "nation. : 3\n",
      "respect : 3\n",
      "vision : 3\n",
      "india : 3\n",
      "see : 3\n",
      "years : 2\n",
      "from : 2\n",
      "over : 2\n",
      "world : 2\n",
      "us, : 2\n",
      "conquered : 2\n",
      "minds. : 2\n",
      "them : 2\n",
      "yet : 2\n",
      "their : 2\n",
      "because : 2\n",
      "freedom : 2\n",
      "first : 2\n",
      "believe : 2\n",
      "it : 2\n",
      "no : 2\n",
      "one : 2\n",
      "will : 2\n",
      "us. : 2\n",
      "ourselves : 2\n",
      "developed : 2\n",
      "up : 2\n",
      "only : 2\n",
      "worked : 2\n",
      "with : 2\n",
      "great : 2\n",
      "dr. : 2\n",
      "visions : 1\n",
      "india. : 1\n",
      "3000 : 1\n",
      "history, : 1\n",
      "people : 1\n",
      "come : 1\n",
      "invaded : 1\n",
      "captured : 1\n",
      "lands, : 1\n",
      "alexander : 1\n",
      "onwards, : 1\n",
      "greeks, : 1\n",
      "turks, : 1\n",
      "moguls, : 1\n",
      "portuguese, : 1\n",
      "british, : 1\n",
      "french, : 1\n",
      "dutch, : 1\n",
      "came : 1\n",
      "looted : 1\n",
      "took : 1\n",
      "what : 1\n",
      "ours. : 1\n",
      "done : 1\n",
      "any : 1\n",
      "other : 1\n",
      "anyone. : 1\n",
      "grabbed : 1\n",
      "land, : 1\n",
      "culture,their : 1\n",
      "history : 1\n",
      "tried : 1\n",
      "enforce : 1\n",
      "way : 1\n",
      "life : 1\n",
      "on : 1\n",
      "them. : 1\n",
      "why? : 1\n",
      "others. : 1\n",
      "why : 1\n",
      "freedom. : 1\n",
      "got : 1\n",
      "its : 1\n",
      "1857, : 1\n",
      "when : 1\n",
      "started : 1\n",
      "war : 1\n",
      "independence. : 1\n",
      "protect : 1\n",
      "nurture : 1\n",
      "build : 1\n",
      "on. : 1\n",
      "if : 1\n",
      "free, : 1\n",
      "second : 1\n",
      "indiaâ€™s : 1\n",
      "development. : 1\n",
      "fifty : 1\n",
      "been : 1\n",
      "developing : 1\n",
      "time : 1\n",
      "among : 1\n",
      "top : 1\n",
      "5 : 1\n",
      "nations : 1\n",
      "terms : 1\n",
      "gdp. : 1\n",
      "10 : 1\n",
      "percent : 1\n",
      "growth : 1\n",
      "rate : 1\n",
      "most : 1\n",
      "areas. : 1\n",
      "poverty : 1\n",
      "levels : 1\n",
      "falling. : 1\n",
      "achievements : 1\n",
      "being : 1\n",
      "globally : 1\n",
      "recognised : 1\n",
      "today. : 1\n",
      "lack : 1\n",
      "self-confidence : 1\n",
      "nation, : 1\n",
      "self-reliant : 1\n",
      "self-assured. : 1\n",
      "isnâ€™t : 1\n",
      "incorrect? : 1\n",
      "third : 1\n",
      "vision. : 1\n",
      "stand : 1\n",
      "world. : 1\n",
      "unless : 1\n",
      "stands : 1\n",
      "world, : 1\n",
      "strength : 1\n",
      "respects : 1\n",
      "strength. : 1\n",
      "be : 1\n",
      "strong : 1\n",
      "military : 1\n",
      "power : 1\n",
      "but : 1\n",
      "also : 1\n",
      "an : 1\n",
      "economic : 1\n",
      "power. : 1\n",
      "both : 1\n",
      "go : 1\n",
      "hand-in-hand. : 1\n",
      "good : 1\n",
      "fortune : 1\n",
      "vikram : 1\n",
      "sarabhai : 1\n",
      "dept. : 1\n",
      "space, : 1\n",
      "professor : 1\n",
      "satish : 1\n",
      "dhawan, : 1\n",
      "who : 1\n",
      "succeeded : 1\n",
      "him : 1\n",
      "brahm : 1\n",
      "prakash, : 1\n",
      "father : 1\n",
      "nuclear : 1\n",
      "material. : 1\n",
      "lucky : 1\n",
      "closely : 1\n",
      "consider : 1\n",
      "opportunity : 1\n",
      "life. : 1\n",
      "four : 1\n",
      "milestones : 1\n",
      "career : 1\n"
     ]
    }
   ],
   "source": [
    "file = input(\"Enter the file name with extension: \")\n",
    "f = open(file,\"r\")\n",
    "\n",
    "lines = f.readlines()\n",
    "word_count = {}\n",
    "for line in lines:\n",
    "    words = line.split(\" \")\n",
    "    for word in words:\n",
    "        word = word.lower()\n",
    "        if word in word_count.keys():\n",
    "            word_count[word]+=1\n",
    "        else:\n",
    "            word_count[word] = 1\n",
    "f.close()\n",
    "word_count = dict(sorted(word_count.items(),key= lambda x:x[1], reverse = True))\n",
    "most_frequent = list(word_count.keys())\n",
    "print(\"The 3 most frequent words are:\", most_frequent[:3])\n",
    "print(\"Following are the words in the given file with their frequency of occurences: \")\n",
    "for k,v in word_count.items():\n",
    "    print(k,\":\",v)"
   ]
  },
  {
   "cell_type": "markdown",
   "id": "5d2b6ce6",
   "metadata": {},
   "source": [
    "Following links were refered for reference to the file handling in python:\n",
    "https://pythonspot.com/read-file/\n",
    "https://www.tutorialspoint.com/how-to-sort-a-dictionary-in-python"
   ]
  }
 ],
 "metadata": {
  "kernelspec": {
   "display_name": "Python 3 (ipykernel)",
   "language": "python",
   "name": "python3"
  },
  "language_info": {
   "codemirror_mode": {
    "name": "ipython",
    "version": 3
   },
   "file_extension": ".py",
   "mimetype": "text/x-python",
   "name": "python",
   "nbconvert_exporter": "python",
   "pygments_lexer": "ipython3",
   "version": "3.9.7"
  }
 },
 "nbformat": 4,
 "nbformat_minor": 5
}
